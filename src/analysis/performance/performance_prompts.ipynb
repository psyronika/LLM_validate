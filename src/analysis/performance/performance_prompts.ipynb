{
 "cells": [
  {
   "cell_type": "markdown",
   "id": "f6ce8c9b-0f24-4978-8f43-e60b401aefa9",
   "metadata": {},
   "source": [
    "## Evaluate performance of models on prompt engineering set\n",
    "\n",
    "* Few shot LLama 7b\n",
    "* Few shot LLama 13\n",
    "* Expert annotated set - \"supposed ground truth\n"
   ]
  },
  {
   "cell_type": "markdown",
   "id": "392e1c13-0d5d-4b22-845b-995c669bd130",
   "metadata": {},
   "source": [
    "### Import packages"
   ]
  },
  {
   "cell_type": "code",
   "execution_count": 30,
   "id": "50de1661-18b2-490c-83d4-c3a719f645c1",
   "metadata": {},
   "outputs": [],
   "source": [
    "import pandas as pd\n",
    "import numpy as np\n",
    "from sklearn.metrics import f1_score, precision_score\n",
    "from sklearn.metrics import confusion_matrix\n",
    "import matplotlib.pyplot as plt\n",
    "import seaborn as sns"
   ]
  },
  {
   "cell_type": "markdown",
   "id": "a72e94b7-02a8-4e45-93ee-2a074224baec",
   "metadata": {},
   "source": [
    "### Read data "
   ]
  },
  {
   "cell_type": "code",
   "execution_count": 128,
   "id": "7e35c119-2f19-4b35-a001-cccc6e8bd39f",
   "metadata": {},
   "outputs": [],
   "source": [
    "def load_file(file_relative_path, file_format='csv'):\n",
    "    # Construct the absolute path\n",
    "    absolute_path = '/data/volume_2/LLM_validate/src/analysis/performance/' + file_relative_path\n",
    "\n",
    "    if file_format == 'csv':\n",
    "        # Read the CSV file into a DataFrame\n",
    "        df = pd.read_csv(absolute_path)\n",
    "    elif file_format == 'excel':\n",
    "        # Read the Excel file into a DataFrame\n",
    "        df = pd.read_excel(absolute_path)\n",
    "    else:\n",
    "        raise ValueError(\"Unsupported file format. Supported formats are 'csv' and 'excel'.\")\n",
    "\n",
    "    return df\n"
   ]
  },
  {
   "cell_type": "code",
   "execution_count": 129,
   "id": "f64f8f73-b011-43e0-a01d-901b26b85646",
   "metadata": {},
   "outputs": [],
   "source": [
    "def load_excel_file(file_relative_path):\n",
    "    # Construct the absolute path\n",
    "    absolute_path = '/data/volume_2/LLM_validate/src/analysis/performance/' + file_relative_path\n",
    "\n",
    "    # Read the Excel file into a DataFrame\n",
    "    df = pd.read_excel(absolute_path)\n",
    "\n",
    "    return df"
   ]
  },
  {
   "cell_type": "code",
   "execution_count": 130,
   "id": "e259be98-176f-46c1-abd0-6f38bb6c6386",
   "metadata": {},
   "outputs": [],
   "source": [
    "#7b\n",
    "df1 = load_file('../../../../initial_out/7B_prompt_quality.csv')"
   ]
  },
  {
   "cell_type": "code",
   "execution_count": 316,
   "id": "87790c06-25d0-4ad8-b50a-ff260f62090b",
   "metadata": {},
   "outputs": [],
   "source": [
    "#13b\n",
    "df2 = load_file('../../../../initial_out/13b_prompt_quality.csv')"
   ]
  },
  {
   "cell_type": "code",
   "execution_count": 306,
   "id": "c0314a90-14cb-4971-85ae-37c30b1d17e5",
   "metadata": {},
   "outputs": [
    {
     "name": "stdout",
     "output_type": "stream",
     "text": [
      "Replaced text in row 89 with '1'.\n"
     ]
    }
   ],
   "source": [
    "# Assuming you have a DataFrame named df2\n",
    "row_index_to_replace = 89\n",
    "new_value = '1' \n",
    "\n",
    "# Check if the row index is valid\n",
    "if row_index_to_replace >= 0 and row_index_to_replace < len(df2):\n",
    "    # Replace the text in the specified row and 'Event_match' column\n",
    "    df2.loc[row_index_to_replace, 'Event_match'] = new_value\n",
    "    print(f\"Replaced text in row {row_index_to_replace} with '{new_value}'.\")\n",
    "else:\n",
    "    print(f\"Row index {row_index_to_replace} is out of range.\")"
   ]
  },
  {
   "cell_type": "code",
   "execution_count": 313,
   "id": "baa8136f-d6c9-42f1-844c-04a58e91c2a9",
   "metadata": {},
   "outputs": [],
   "source": [
    "#expert annotated\n",
    "df3 = load_excel_file('../../../../initial_out/prompt_validation_set_final_done_.xlsx')"
   ]
  },
  {
   "cell_type": "markdown",
   "id": "489857e0-4f60-4767-807a-cfe7d6a25e21",
   "metadata": {},
   "source": [
    "### Calculate percision, F1, confusion matrix "
   ]
  },
  {
   "cell_type": "code",
   "execution_count": 292,
   "id": "6f464f38-19a7-45af-bc1d-e0371871f429",
   "metadata": {},
   "outputs": [],
   "source": [
    "from sklearn.metrics import precision_score, f1_score, recall_score, accuracy_score, confusion_matrix\n",
    "\n",
    "def calculate_precision_recall_f1_accuracy(df1, df3):\n",
    "    # Calculate precision, recall, F1 score, and accuracy based on the 'event-match' and 'topic_match' columns\n",
    "    precision_event = precision_score(df3['event_match'], df1['Event_match'])\n",
    "    recall_event = recall_score(df3['event_match'], df1['Event_match'])\n",
    "    f1_event = f1_score(df3['event_match'], df1['Event_match'])\n",
    "    accuracy_event = accuracy_score(df3['event_match'], df1['Event_match'])\n",
    "\n",
    "    precision_topic = precision_score(df3['topic_match'], df1['Topic_match'])\n",
    "    recall_topic = recall_score(df3['topic_match'], df1['Topic_match'])\n",
    "    f1_topic = f1_score(df3['topic_match'], df1['Topic_match'])\n",
    "    accuracy_topic = accuracy_score(df3['topic_match'], df1['Topic_match'])\n",
    "    \n",
    "    # Create confusion matrices based on the 'event_match' and 'topic_match' columns\n",
    "    conf_matrix_topic = confusion_matrix(df3['topic_match'], df1['Topic_match'])\n",
    "    conf_matrix_event = confusion_matrix(df3['event_match'], df1['Event_match'])\n",
    "\n",
    "    # Return the results as a dictionary\n",
    "    results = {\n",
    "        \"Precision (topic_match)\": precision_topic,\n",
    "        \"Recall (topic_match)\": recall_topic,\n",
    "        \"F1 Score (topic_match)\": f1_topic,\n",
    "        \"Accuracy (topic_match)\": accuracy_topic,\n",
    "        \"Precision (event_match)\": precision_event,\n",
    "        \"Recall (event_match)\": recall_event,\n",
    "        \"F1 Score (event_match)\": f1_event,\n",
    "        \"Accuracy (event_match)\": accuracy_event,\n",
    "        \"Confusion Matrix (topic_match)\": conf_matrix_topic,\n",
    "        \"Confusion Matrix (event_match)\": conf_matrix_event\n",
    "    }\n",
    "\n",
    "    return results\n"
   ]
  },
  {
   "cell_type": "code",
   "execution_count": 288,
   "id": "ea164855-ceed-476f-9bd1-78747d41f761",
   "metadata": {},
   "outputs": [],
   "source": [
    "results = calculate_precision_recall_f1_accuracy(df1, df3)"
   ]
  },
  {
   "cell_type": "code",
   "execution_count": 317,
   "id": "5ea63c3a-c3d4-498e-938b-6fc75113d808",
   "metadata": {},
   "outputs": [],
   "source": [
    "results2 = calculate_precision_recall_f1_accuracy(df2, df3)"
   ]
  },
  {
   "cell_type": "code",
   "execution_count": 289,
   "id": "02deacd5-fc17-4d21-8771-f0255fbab900",
   "metadata": {},
   "outputs": [
    {
     "data": {
      "text/plain": [
       "{'Precision (topic_match)': 0.7976190476190477,\n",
       " 'Recall (topic_match)': 0.8933333333333333,\n",
       " 'F1 Score (topic_match)': 0.8427672955974843,\n",
       " 'Accuracy (topic_match)': 0.7474747474747475,\n",
       " 'Precision (event_match)': 0.2926829268292683,\n",
       " 'Recall (event_match)': 0.631578947368421,\n",
       " 'F1 Score (event_match)': 0.39999999999999997,\n",
       " 'Accuracy (event_match)': 0.6363636363636364,\n",
       " 'Confusion Matrix (topic_match)': array([[ 7, 17],\n",
       "        [ 8, 67]]),\n",
       " 'Confusion Matrix (event_match)': array([[51, 29],\n",
       "        [ 7, 12]])}"
      ]
     },
     "execution_count": 289,
     "metadata": {},
     "output_type": "execute_result"
    }
   ],
   "source": [
    "results"
   ]
  },
  {
   "cell_type": "code",
   "execution_count": 318,
   "id": "83bae0ac-5d4b-495f-a034-cf8ccfef6f0d",
   "metadata": {},
   "outputs": [
    {
     "data": {
      "text/plain": [
       "{'Precision (topic_match)': 0.8260869565217391,\n",
       " 'Recall (topic_match)': 0.5066666666666667,\n",
       " 'F1 Score (topic_match)': 0.628099173553719,\n",
       " 'Accuracy (topic_match)': 0.5454545454545454,\n",
       " 'Precision (event_match)': 0.43478260869565216,\n",
       " 'Recall (event_match)': 0.5263157894736842,\n",
       " 'F1 Score (event_match)': 0.47619047619047616,\n",
       " 'Accuracy (event_match)': 0.7777777777777778,\n",
       " 'Confusion Matrix (topic_match)': array([[16,  8],\n",
       "        [37, 38]]),\n",
       " 'Confusion Matrix (event_match)': array([[67, 13],\n",
       "        [ 9, 10]])}"
      ]
     },
     "execution_count": 318,
     "metadata": {},
     "output_type": "execute_result"
    }
   ],
   "source": [
    "results2"
   ]
  },
  {
   "cell_type": "markdown",
   "id": "23e99141-2cc8-44f0-94d7-110caf4babe7",
   "metadata": {},
   "source": [
    "#### This confusion matrix is a 2x2 matrix that summarizes the performance of a binary classification model. It consists of four values:\n",
    "\n",
    "* Class 0 (no match)\n",
    "* Class 1 (match)\n",
    "\n",
    "\n",
    "* The top-left cell represents True Negatives (TN), which are the instances correctly classified as \"Class 0.\"\n",
    "* The top-right cell represents False Positives (FP), which are instances incorrectly classified as \"Class 1.\"\n",
    "* The bottom-left cell represents False Negatives (FN), which are instances incorrectly classified as \"Class 0.\"\n",
    "* The bottom-right cell represents True Positives (TP), which are instances correctly classified as \"Class 1.\""
   ]
  },
  {
   "cell_type": "markdown",
   "id": "0a486a17-1629-491c-a85d-dbc0d2b0d40c",
   "metadata": {},
   "source": [
    "### Plot confusion matrix "
   ]
  },
  {
   "cell_type": "markdown",
   "id": "366f1c06-b9e9-4de0-a9a1-9a1a48cb9a75",
   "metadata": {},
   "source": [
    "#### llama 7B"
   ]
  },
  {
   "cell_type": "code",
   "execution_count": 141,
   "id": "c704b2f8-cc64-49d4-ba71-b02678001332",
   "metadata": {},
   "outputs": [
    {
     "data": {
      "image/png": "[encoded data removed]",
      "text/plain": [
       "<Figure size 640x480 with 2 Axes>"
      ]
     },
     "metadata": {},
     "output_type": "display_data"
    },
    {
     "data": {
      "image/png": "[encoded data removed]",
      "text/plain": [
       "<Figure size 640x480 with 2 Axes>"
      ]
     },
     "metadata": {},
     "output_type": "display_data"
    }
   ],
   "source": [
    "# Plot the confusion matrices\n",
    "#llama 7b\n",
    "\n",
    "sns.heatmap(results[\"Confusion Matrix (topic_match)\"], annot=True, fmt='d', cmap='Blues', \n",
    "            xticklabels=['0', '1'], yticklabels=['0', '1'])\n",
    "plt.xlabel('Predicted Labels')\n",
    "plt.ylabel('True Labels')\n",
    "plt.title('Confusion Matrix (topic_match)')\n",
    "plt.show()\n",
    "\n",
    "\n",
    "sns.heatmap(results[\"Confusion Matrix (event_match)\"], annot=True, fmt='d', cmap='Blues', \n",
    "            xticklabels=['0', '1'], yticklabels=['0', '1'])\n",
    "plt.xlabel('Predicted Labels')\n",
    "plt.ylabel('True Labels')\n",
    "plt.title('Confusion Matrix (event_match)')\n",
    "plt.show()"
   ]
  },
  {
   "cell_type": "markdown",
   "id": "2e9953e4-d813-4f43-8619-324a498469cc",
   "metadata": {},
   "source": [
    "#### llama 13B"
   ]
  },
  {
   "cell_type": "code",
   "execution_count": 323,
   "id": "ae179a38-f7f8-41f9-b4fe-4552a818631b",
   "metadata": {},
   "outputs": [
    {
     "data": {
      "image/png": "[encoded data removed]",
      "text/plain": [
       "<Figure size 640x480 with 2 Axes>"
      ]
     },
     "metadata": {},
     "output_type": "display_data"
    },
    {
     "data": {
      "image/png": "[encoded data removed]",
      "text/plain": [
       "<Figure size 640x480 with 2 Axes>"
      ]
     },
     "metadata": {},
     "output_type": "display_data"
    }
   ],
   "source": [
    "sns.heatmap(results2[\"Confusion Matrix (topic_match)\"], annot=True, fmt='d', cmap='Blues', \n",
    "            xticklabels=['0', '1'], yticklabels=['0', '1'])\n",
    "plt.xlabel('Predicted Labels')\n",
    "plt.ylabel('True Labels')\n",
    "plt.title('Confusion Matrix (topic_match)')\n",
    "plt.show()\n",
    "\n",
    "\n",
    "sns.heatmap(results2[\"Confusion Matrix (event_match)\"], annot=True, fmt='d', cmap='Blues', \n",
    "            xticklabels=['0', '1'], yticklabels=['0', '1'])\n",
    "plt.xlabel('Predicted Labels')\n",
    "plt.ylabel('True Labels')\n",
    "plt.title('Confusion Matrix (event_match)')\n",
    "plt.show()"
   ]
  },
  {
   "cell_type": "markdown",
   "id": "07bc523d-a47e-4c6b-af04-e4358ea06509",
   "metadata": {},
   "source": [
    "### Interpretation\n",
    "\n",
    "So far model performance is not great. Llama 7b appears to perform better at identifying topic matches - it has higher agreement with expert annotations. But it performs very badly on news event match task.\n",
    "\n",
    "On the other hand LLama 13b performs accetable on topic match task and mediocre on the new event level match.\n",
    "\n"
   ]
  },
  {
   "cell_type": "markdown",
   "id": "bdc47953-7d36-4b4a-9cb6-32a1a9abf8d3",
   "metadata": {},
   "source": [
    "### Best performance I could achieve:\n",
    "\n",
    "\n",
    "13B chat : \n",
    "* 'Precision (topic_match)': 0.8260869565217391,\n",
    "*  'Recall (topic_match)': 0.5066666666666667,\n",
    "*  'F1 Score (topic_match)': 0.628099173553719,\n",
    "*  'Accuracy (topic_match)': 0.5454545454545454,\n",
    "* 'Precision (event_match)': 0.43478260869565216,\n",
    "*  'Recall (event_match)': 0.5263157894736842,\n",
    "*  'F1 Score (event_match)': 0.47619047619047616,\n",
    "* 'Accuracy (event_match)': 0.7777777777777778,\n",
    "* 'Confusion Matrix (topic_match)': array([[16,  8],\n",
    "        [37, 38]]),\n",
    "* 'Confusion Matrix (event_match)': array([[67, 13],\n",
    "        [ 9, 10]])\n",
    "\n",
    "\n"
   ]
  },
  {
   "cell_type": "markdown",
   "id": "6824ad28-1e25-4024-98f9-a7755cf701df",
   "metadata": {},
   "source": [
    "## Manual Error analysis"
   ]
  },
  {
   "cell_type": "code",
   "execution_count": 319,
   "id": "b191bd30-a9aa-4b61-bf4c-fecbdd17091c",
   "metadata": {},
   "outputs": [
    {
     "name": "stdout",
     "output_type": "stream",
     "text": [
      "(array([ 1,  2,  3, 15, 18, 20, 23, 28, 29, 38, 39, 40, 41, 43, 46, 53, 57,\n",
      "       61, 62, 80, 90, 98]),)\n"
     ]
    }
   ],
   "source": [
    "import numpy as np\n",
    "\n",
    "# Get the indices of the rows where the predicted and ground truth labels differ\n",
    "indices = np.where(df2['Event_match'] != df3['event_match'])\n",
    "\n",
    "# Print the indices\n",
    "print(indices)"
   ]
  },
  {
   "cell_type": "code",
   "execution_count": 320,
   "id": "de1f93f4-4b57-4186-b088-edc406dfb346",
   "metadata": {},
   "outputs": [],
   "source": [
    "# Get the predicted labels for the disputed rows\n",
    "predicted_labels = df2.iloc[indices]['Event_match']# Get the predicted labels for the disputed rows"
   ]
  },
  {
   "cell_type": "code",
   "execution_count": 321,
   "id": "cbc3ca44-51e2-4aeb-ae4b-ed0937f1cd6d",
   "metadata": {},
   "outputs": [
    {
     "data": {
      "text/plain": [
       "(array([ 1,  2,  3, 15, 18, 20, 23, 28, 29, 38, 39, 40, 41, 43, 46, 53, 57,\n",
       "        61, 62, 80, 90, 98]),)"
      ]
     },
     "execution_count": 321,
     "metadata": {},
     "output_type": "execute_result"
    }
   ],
   "source": [
    "indices"
   ]
  },
  {
   "cell_type": "code",
   "execution_count": 322,
   "id": "f3333574-3e03-4c20-8c27-df82d8b3c3b5",
   "metadata": {},
   "outputs": [
    {
     "data": {
      "text/plain": [
       "1     0\n",
       "2     1\n",
       "3     0\n",
       "15    1\n",
       "18    0\n",
       "20    0\n",
       "23    1\n",
       "28    0\n",
       "29    1\n",
       "38    1\n",
       "39    0\n",
       "40    0\n",
       "41    1\n",
       "43    1\n",
       "46    1\n",
       "53    1\n",
       "57    1\n",
       "61    1\n",
       "62    0\n",
       "80    1\n",
       "90    1\n",
       "98    0\n",
       "Name: Event_match, dtype: int64"
      ]
     },
     "execution_count": 322,
     "metadata": {},
     "output_type": "execute_result"
    }
   ],
   "source": [
    "predicted_labels"
   ]
  },
  {
   "cell_type": "code",
   "execution_count": 273,
   "id": "221f93b8-91ff-4440-a371-f1d330d9baa7",
   "metadata": {},
   "outputs": [],
   "source": [
    "rows = df2['Event_eval'].iloc[indices]"
   ]
  },
  {
   "cell_type": "code",
   "execution_count": 272,
   "id": "67889fba-f0b6-46eb-866c-4637d1c7a03a",
   "metadata": {},
   "outputs": [
    {
     "data": {
      "text/plain": [
       "'Moet er meer in de zorg geïnvesteerd worden?; Hoekstra CDA zegt dat er meer ge nvesteerd moet worden in de behandeling van kanker, obesitas en andere ziekten waar veel mensen aan lijden. Marijnissen van de SP vindt het schaamteloos dat de lijsttrekkers van de huidige regeringspartijen zeggen dat er meer geld in de zorg moet worden ge nvesteerd. Zij stemden steeds tegen, zegt zij. GroenLinks-lijsttrekker Klaver wil niet in harde woorden over dit onderwerp debatteren. We hebben elkaar juist nodig, zegt hij. De lijsttrekkers zijn het in ieder geval eens over de invloed die artsen moeten hebben bij dit vraagstuk.'"
      ]
     },
     "execution_count": 272,
     "metadata": {},
     "output_type": "execute_result"
    }
   ],
   "source": [
    "rows[62] #seems like it cannot really get the subtle connection with the "
   ]
  },
  {
   "cell_type": "code",
   "execution_count": 268,
   "id": "71f75421-6f8a-4af8-9b9e-7d7d300ea286",
   "metadata": {},
   "outputs": [],
   "source": [
    "rows = df2['Text2'].iloc[indices]"
   ]
  },
  {
   "cell_type": "code",
   "execution_count": 269,
   "id": "fe1cbfd3-659b-4330-9d93-4fda57a70eee",
   "metadata": {},
   "outputs": [
    {
     "data": {
      "text/plain": [
       "\"De Jonge: lijsttrekkers moeten in campagne behoedzaam zijn over corona ; Minister de Jonge van Volksgezondheid vindt het logisch dat lijsttrekkers in de verkiezingscampagne spreken over wat ze graag zouden willen aan versoepelingen, maar hij vindt ook dat ze wel behoedzaam moeten zijn. Qua besmettingscijfers is de situatie nog steeds zorgelijk en er kan nu weinig, benadrukt De Jonge. Partijgenoot en CDA-lijsttrekker Hoekstra zei gisteren in het RTL-debat dat hij eerlijk moet zijn en dat het nu niet kan, maar dat hij hoopt dat de terrassen snel open kunnen. Het is logisch dat te hopen, zei De Jonge, maar zo snel als mogelijk is niet vandaag of morgen. Zo zijn er zorgen over de situatie in de kop van Noord-Holland waar erg veel pati nten zijn. In n regio code zwart ligt niet voor de hand, we moeten de pati nten goed tussen de regio's verdelen, zegt De Jonge. Maar we met moeten met zijn allen wel code zwart voorkomen.\""
      ]
     },
     "execution_count": 269,
     "metadata": {},
     "output_type": "execute_result"
    }
   ],
   "source": [
    "rows[72]"
   ]
  },
  {
   "cell_type": "code",
   "execution_count": 270,
   "id": "d2623d77-fdff-4c39-a875-3d99e6215d00",
   "metadata": {},
   "outputs": [],
   "source": [
    "rows = df2['Text1'].iloc[indices]"
   ]
  },
  {
   "cell_type": "code",
   "execution_count": 271,
   "id": "671b54ff-110e-4aca-84d2-41a55485316a",
   "metadata": {},
   "outputs": [
    {
     "data": {
      "text/plain": [
       "\"Eigenaar vraagt SP-leider om met zzp'ers te kunnen blijven werken; Een eigenaar die games ontwerpt wil graag met zzp'ers blijven werken en is bang dat de SP dit soort contracten helemaal wil verbannen. Marijnissen wil dat helemaal niet, zegt ze. Haar partij komt volgens haar vooral op voor werknemers die gedwongen worden om als zzp'er te werken, zoals koeriers van eten en pakketjes.\""
      ]
     },
     "execution_count": 271,
     "metadata": {},
     "output_type": "execute_result"
    }
   ],
   "source": [
    "rows[72]"
   ]
  },
  {
   "cell_type": "code",
   "execution_count": null,
   "id": "496bea4e-1e71-41b6-939b-f9d63dace767",
   "metadata": {},
   "outputs": [],
   "source": []
  }
 ],
 "metadata": {
  "kernelspec": {
   "display_name": "python 3.10",
   "language": "python",
   "name": "python_3.10"
  },
  "language_info": {
   "codemirror_mode": {
    "name": "ipython",
    "version": 3
   },
   "file_extension": ".py",
   "mimetype": "text/x-python",
   "name": "python",
   "nbconvert_exporter": "python",
   "pygments_lexer": "ipython3",
   "version": "3.10.12"
  }
 },
 "nbformat": 4,
 "nbformat_minor": 5
}
