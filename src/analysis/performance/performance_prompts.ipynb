{
 "cells": [
  {
   "cell_type": "markdown",
   "id": "f6ce8c9b-0f24-4978-8f43-e60b401aefa9",
   "metadata": {},
   "source": [
    "## Evaluate performance of models on prompt engineering set\n",
    "\n",
    "* Few shot LLama 7b\n",
    "* Few shot LLama 13\n",
    "* Expert annotated set - \"supposed ground truth\n"
   ]
  },
  {
   "cell_type": "markdown",
   "id": "392e1c13-0d5d-4b22-845b-995c669bd130",
   "metadata": {},
   "source": [
    "### Import packages"
   ]
  },
  {
   "cell_type": "code",
   "execution_count": 1,
   "id": "50de1661-18b2-490c-83d4-c3a719f645c1",
   "metadata": {},
   "outputs": [],
   "source": [
    "import pandas as pd\n",
    "import numpy as np\n",
    "from sklearn.metrics import f1_score, precision_score\n",
    "from sklearn.metrics import confusion_matrix\n",
    "import matplotlib.pyplot as plt\n",
    "import seaborn as sns"
   ]
  },
  {
   "cell_type": "markdown",
   "id": "a72e94b7-02a8-4e45-93ee-2a074224baec",
   "metadata": {},
   "source": [
    "### Read data "
   ]
  },
  {
   "cell_type": "code",
   "execution_count": 2,
   "id": "7e35c119-2f19-4b35-a001-cccc6e8bd39f",
   "metadata": {},
   "outputs": [],
   "source": [
    "def load_file(file_relative_path, file_format='csv'):\n",
    "    # Construct the absolute path\n",
    "    absolute_path = '/data/volume_2/LLM_validate/src/analysis/performance/' + file_relative_path\n",
    "\n",
    "    if file_format == 'csv':\n",
    "        # Read the CSV file into a DataFrame\n",
    "        df = pd.read_csv(absolute_path)\n",
    "    elif file_format == 'excel':\n",
    "        # Read the Excel file into a DataFrame\n",
    "        df = pd.read_excel(absolute_path)\n",
    "    else:\n",
    "        raise ValueError(\"Unsupported file format. Supported formats are 'csv' and 'excel'.\")\n",
    "\n",
    "    return df\n"
   ]
  },
  {
   "cell_type": "code",
   "execution_count": 3,
   "id": "f64f8f73-b011-43e0-a01d-901b26b85646",
   "metadata": {},
   "outputs": [],
   "source": [
    "def load_excel_file(file_relative_path):\n",
    "    # Construct the absolute path\n",
    "    absolute_path = '/data/volume_2/LLM_validate/src/analysis/performance/' + file_relative_path\n",
    "\n",
    "    # Read the Excel file into a DataFrame\n",
    "    df = pd.read_excel(absolute_path)\n",
    "\n",
    "    return df"
   ]
  },
  {
   "cell_type": "markdown",
   "id": "0c21dac7-1c3f-46e2-a60e-4952349d139c",
   "metadata": {},
   "source": [
    "### Temperature 0.0"
   ]
  },
  {
   "cell_type": "code",
   "execution_count": 6,
   "id": "e259be98-176f-46c1-abd0-6f38bb6c6386",
   "metadata": {},
   "outputs": [],
   "source": [
    "#7b\n",
    "df1 = load_file('../../../../initial_out/7B_prompt_quality.csv') #temperature 0.0"
   ]
  },
  {
   "cell_type": "code",
   "execution_count": 5,
   "id": "965f80c1-6a1d-4ad3-94e0-e035b0eee1b8",
   "metadata": {},
   "outputs": [],
   "source": [
    "df11 = load_file('../../../../initial_out/7B_prompt_quality_00.csv')"
   ]
  },
  {
   "cell_type": "code",
   "execution_count": 40,
   "id": "87790c06-25d0-4ad8-b50a-ff260f62090b",
   "metadata": {},
   "outputs": [],
   "source": [
    "#13b\n",
    "df2 = load_file('../../../../initial_out/13b_prompt_quality.csv') #temperature 0.0"
   ]
  },
  {
   "cell_type": "code",
   "execution_count": 35,
   "id": "4f1b9933-24f4-4a03-b937-4173648285bb",
   "metadata": {},
   "outputs": [],
   "source": [
    "#13b\n",
    "df5 = load_file('../../../../initial_out/final_test13B.csv') #temperature 00."
   ]
  },
  {
   "cell_type": "code",
   "execution_count": 30,
   "id": "fca8c770-9db8-48a4-ac3f-0a856bfaf705",
   "metadata": {},
   "outputs": [],
   "source": [
    "#13b\n",
    "d = load_file('../../../../initial_out/13b_prompt_quality_0_final.csv') #temperature 00."
   ]
  },
  {
   "cell_type": "code",
   "execution_count": 32,
   "id": "8dd48d73-93fb-4601-9c74-31f10ecb26ca",
   "metadata": {},
   "outputs": [],
   "source": [
    "c = load_file('../../../../initial_out/13b_prompt_quality_0_final_1.csv') #temperature 00."
   ]
  },
  {
   "cell_type": "code",
   "execution_count": 37,
   "id": "053e86eb-085f-483e-b6bc-edafbcb80475",
   "metadata": {},
   "outputs": [],
   "source": [
    "b = load_file('../../../../initial_out/13b_prompt_quality_0_final_2.csv')"
   ]
  },
  {
   "cell_type": "code",
   "execution_count": 40,
   "id": "c4ce5e6c-e178-4a79-b930-430c6b5b01bd",
   "metadata": {},
   "outputs": [],
   "source": [
    "a = load_file('../../../../initial_out/13b_prompt_quality_0_final_3.csv')"
   ]
  },
  {
   "cell_type": "code",
   "execution_count": 42,
   "id": "e0fd7063-0c8b-4b1d-8477-3c753145332b",
   "metadata": {},
   "outputs": [],
   "source": [
    "e = load_file('../../../../initial_out/13b_prompt_quality_0_final_4.csv')"
   ]
  },
  {
   "cell_type": "code",
   "execution_count": 44,
   "id": "0b3c84e9-cee2-44ae-8a21-90f33048496f",
   "metadata": {},
   "outputs": [],
   "source": [
    "f = load_file('../../../../initial_out/13b_prompt_quality_0_final_6.csv')"
   ]
  },
  {
   "cell_type": "markdown",
   "id": "13aade82-857e-41e4-946b-c18354c2ab6f",
   "metadata": {},
   "source": [
    "### Temperature 0.2"
   ]
  },
  {
   "cell_type": "code",
   "execution_count": 180,
   "id": "8990de76-d708-40e5-aa38-2d7d21dd98d4",
   "metadata": {},
   "outputs": [],
   "source": [
    "df6 =load_file('../../../../initial_out/13b_prompt_quality_02.csv') #temperature 0.2"
   ]
  },
  {
   "cell_type": "code",
   "execution_count": 184,
   "id": "1ee9741f-517d-4e34-902c-81b942e69bb1",
   "metadata": {},
   "outputs": [],
   "source": [
    "df7 =load_file('../../../../initial_out/13b_prompt_quality_02_1.csv') #temperature 0.2 second run"
   ]
  },
  {
   "cell_type": "code",
   "execution_count": 13,
   "id": "653ee864-16fe-4dd9-9c33-8bd1a1505141",
   "metadata": {},
   "outputs": [],
   "source": [
    "df12 = load_file('../../../../initial_out/7B_prompt_quality_02.csv')"
   ]
  },
  {
   "cell_type": "code",
   "execution_count": 15,
   "id": "c5970998-f3cd-414f-8cd6-1960b1428dbc",
   "metadata": {},
   "outputs": [],
   "source": [
    "df13 = load_file('../../../../initial_out/7B_prompt_quality_02_1.csv')"
   ]
  },
  {
   "cell_type": "markdown",
   "id": "984d49e9-544a-47c0-809d-efaf7a477658",
   "metadata": {},
   "source": [
    "### Temperature 0.6"
   ]
  },
  {
   "cell_type": "code",
   "execution_count": 186,
   "id": "28a9bf8b-2c48-4669-9858-a3a911daba85",
   "metadata": {},
   "outputs": [],
   "source": [
    "df8 =load_file('../../../../initial_out/13b_prompt_quality_06_1.csv') #temperature 0.6 first run"
   ]
  },
  {
   "cell_type": "code",
   "execution_count": 188,
   "id": "e2ee64b2-abb4-47f8-bf64-72491c223c74",
   "metadata": {},
   "outputs": [],
   "source": [
    "df9 =load_file('../../../../initial_out/13b_prompt_quality_06_2.csv') #temperature 0.6 second run"
   ]
  },
  {
   "cell_type": "code",
   "execution_count": 19,
   "id": "261e09ac-a4e8-48a8-ae64-067a3db88248",
   "metadata": {},
   "outputs": [],
   "source": [
    "df14 = load_file('../../../../initial_out/7B_prompt_quality_06.csv') #temperature 0.6 first run"
   ]
  },
  {
   "cell_type": "code",
   "execution_count": 21,
   "id": "e4a68171-4fe5-4089-a823-da82a212e09c",
   "metadata": {},
   "outputs": [],
   "source": [
    "df15 = load_file('../../../../initial_out/7B_prompt_quality_06_1.csv') #temperature 0.6 first run"
   ]
  },
  {
   "cell_type": "markdown",
   "id": "d5f2683b-d9b2-4e9c-b231-39e6e8782606",
   "metadata": {},
   "source": [
    "### Temperature 1"
   ]
  },
  {
   "cell_type": "code",
   "execution_count": 25,
   "id": "7f7ea5cd-81ef-47b6-a21f-14cc118773c8",
   "metadata": {},
   "outputs": [],
   "source": [
    "df10 = load_file('../../../../initial_out/13b_prompt_quality_1_1.csv') #temperature 1 first run\n",
    "df16 = load_file('../../../../initial_out/7B_prompt_quality_1.csv') #temperature 1 first run\n",
    "df17 = load_file('../../../../initial_out/7B_prompt_quality_1_1.csv') #temperature 2nd first run"
   ]
  },
  {
   "cell_type": "code",
   "execution_count": null,
   "id": "664d513e-8093-4f51-9148-e19300fda905",
   "metadata": {},
   "outputs": [],
   "source": [
    "# Assuming you have a DataFrame named df2\n",
    "row_index_to_replace = 89\n",
    "new_value = '1' \n",
    "\n",
    "# Check if the row index is valid\n",
    "if row_index_to_replace >= 0 and row_index_to_replace < len(df2):\n",
    "    # Replace the text in the specified row and 'Event_match' column\n",
    "    df2.loc[row_index_to_replace, 'Event_match'] = new_value\n",
    "    print(f\"Replaced text in row {row_index_to_replace} with '{new_value}'.\")\n",
    "else:\n",
    "    print(f\"Row index {row_index_to_replace} is out of range.\")"
   ]
  },
  {
   "cell_type": "code",
   "execution_count": 10,
   "id": "baa8136f-d6c9-42f1-844c-04a58e91c2a9",
   "metadata": {},
   "outputs": [],
   "source": [
    "#expert annotated\n",
    "df3 = load_excel_file('../../../../initial_out/prompt_validation_set_final_done_.xlsx')"
   ]
  },
  {
   "cell_type": "code",
   "execution_count": 7,
   "id": "1beb927e-8899-4ca4-90d2-2eb023564476",
   "metadata": {},
   "outputs": [],
   "source": [
    "def change_columns_to_object(df, columns_to_convert):\n",
    "    \"\"\"\n",
    "    Change the data type of specified columns in a DataFrame to object (string).\n",
    "\n",
    "    Parameters:\n",
    "    - df (pd.DataFrame): The DataFrame to modify.\n",
    "    - columns_to_convert (list of str): List of column names to convert to object type.\n",
    "\n",
    "    Returns:\n",
    "    - pd.DataFrame: The modified DataFrame.\n",
    "    \"\"\"\n",
    "    for column in columns_to_convert:\n",
    "        if column in df.columns:\n",
    "            df[column] = df[column].astype(int)\n",
    "        else:\n",
    "            print(f\"Column '{column}' not found in the DataFrame.\")\n",
    "    return df"
   ]
  },
  {
   "cell_type": "code",
   "execution_count": 164,
   "id": "85966695-98b0-43fe-b80c-a4bc0356fed9",
   "metadata": {},
   "outputs": [],
   "source": [
    "df3 = change_columns_to_object(df3, columns_to_convert=['event_match', 'topic_match'])"
   ]
  },
  {
   "cell_type": "code",
   "execution_count": 153,
   "id": "40755cf8-b013-4d8a-a6c9-4de0abf9457d",
   "metadata": {},
   "outputs": [],
   "source": [
    "df1 = change_columns_to_object(df1, columns_to_convert=['Event_match', 'Topic_match'])"
   ]
  },
  {
   "cell_type": "code",
   "execution_count": 154,
   "id": "cd79bb6b-e5b3-4a14-b01b-3cb58362e748",
   "metadata": {},
   "outputs": [],
   "source": [
    "df2 = change_columns_to_object(df2, columns_to_convert=['Event_match', 'Topic_match'])"
   ]
  },
  {
   "cell_type": "code",
   "execution_count": 155,
   "id": "d1a3e35b-d686-4f65-a99a-8f9292696651",
   "metadata": {},
   "outputs": [
    {
     "data": {
      "text/plain": [
       "array([1, 0])"
      ]
     },
     "execution_count": 155,
     "metadata": {},
     "output_type": "execute_result"
    }
   ],
   "source": [
    "df5['Topic_match'].unique()"
   ]
  },
  {
   "cell_type": "code",
   "execution_count": 156,
   "id": "b11c0677-82f8-4d6e-bee2-97980c3e669b",
   "metadata": {},
   "outputs": [
    {
     "data": {
      "text/plain": [
       "array([1, 0])"
      ]
     },
     "execution_count": 156,
     "metadata": {},
     "output_type": "execute_result"
    }
   ],
   "source": [
    "df5['Event_match'].unique()"
   ]
  },
  {
   "cell_type": "markdown",
   "id": "489857e0-4f60-4767-807a-cfe7d6a25e21",
   "metadata": {},
   "source": [
    "### Calculate percision, F1, confusion matrix "
   ]
  },
  {
   "cell_type": "code",
   "execution_count": 8,
   "id": "6f464f38-19a7-45af-bc1d-e0371871f429",
   "metadata": {},
   "outputs": [],
   "source": [
    "from sklearn.metrics import precision_score, f1_score, recall_score, accuracy_score, confusion_matrix\n",
    "\n",
    "def calculate_precision_recall_f1_accuracy(df1, df3):\n",
    "    # Calculate precision, recall, F1 score, and accuracy based on the 'event-match' and 'topic_match' columns\n",
    "    precision_event = precision_score(df3['event_match'], df1['Event_match'])\n",
    "    recall_event = recall_score(df3['event_match'], df1['Event_match'])\n",
    "    f1_event = f1_score(df3['event_match'], df1['Event_match'])\n",
    "    accuracy_event = accuracy_score(df3['event_match'], df1['Event_match'])\n",
    "\n",
    "    precision_topic = precision_score(df3['topic_match'], df1['Topic_match'])\n",
    "    recall_topic = recall_score(df3['topic_match'], df1['Topic_match'])\n",
    "    f1_topic = f1_score(df3['topic_match'], df1['Topic_match'])\n",
    "    accuracy_topic = accuracy_score(df3['topic_match'], df1['Topic_match'])\n",
    "    \n",
    "    # Create confusion matrices based on the 'event_match' and 'topic_match' columns\n",
    "    conf_matrix_topic = confusion_matrix(df3['topic_match'], df1['Topic_match'])\n",
    "    conf_matrix_event = confusion_matrix(df3['event_match'], df1['Event_match'])\n",
    "\n",
    "    # Return the results as a dictionary\n",
    "    results = {\n",
    "        \"Precision (topic_match)\": precision_topic,\n",
    "        \"Recall (topic_match)\": recall_topic,\n",
    "        \"F1 Score (topic_match)\": f1_topic,\n",
    "        \"Accuracy (topic_match)\": accuracy_topic,\n",
    "        \"Precision (event_match)\": precision_event,\n",
    "        \"Recall (event_match)\": recall_event,\n",
    "        \"F1 Score (event_match)\": f1_event,\n",
    "        \"Accuracy (event_match)\": accuracy_event,\n",
    "        \"Confusion Matrix (topic_match)\": conf_matrix_topic,\n",
    "        \"Confusion Matrix (event_match)\": conf_matrix_event\n",
    "    }\n",
    "\n",
    "    return results\n"
   ]
  },
  {
   "cell_type": "code",
   "execution_count": 191,
   "id": "28903a17-3a07-4076-95e0-460c8124310a",
   "metadata": {},
   "outputs": [
    {
     "data": {
      "text/plain": [
       "{'Precision (topic_match)': 0.7976190476190477,\n",
       " 'Recall (topic_match)': 0.9054054054054054,\n",
       " 'F1 Score (topic_match)': 0.8481012658227848,\n",
       " 'Accuracy (topic_match)': 0.7575757575757576,\n",
       " 'Precision (event_match)': 0.21951219512195122,\n",
       " 'Recall (event_match)': 0.5625,\n",
       " 'F1 Score (event_match)': 0.3157894736842105,\n",
       " 'Accuracy (event_match)': 0.6060606060606061,\n",
       " 'Confusion Matrix (topic_match)': array([[ 8, 17],\n",
       "        [ 7, 67]]),\n",
       " 'Confusion Matrix (event_match)': array([[51, 32],\n",
       "        [ 7,  9]])}"
      ]
     },
     "execution_count": 191,
     "metadata": {},
     "output_type": "execute_result"
    }
   ],
   "source": [
    "#7B results\n",
    "results = calculate_precision_recall_f1_accuracy(df1, df3)\n",
    "results"
   ]
  },
  {
   "cell_type": "code",
   "execution_count": 36,
   "id": "af0d3389-019f-467d-9f90-35f74ebba643",
   "metadata": {},
   "outputs": [
    {
     "data": {
      "text/plain": [
       "{'Precision (topic_match)': 0.8297872340425532,\n",
       " 'Recall (topic_match)': 0.527027027027027,\n",
       " 'F1 Score (topic_match)': 0.6446280991735537,\n",
       " 'Accuracy (topic_match)': 0.5656565656565656,\n",
       " 'Precision (event_match)': 0.3448275862068966,\n",
       " 'Recall (event_match)': 0.625,\n",
       " 'F1 Score (event_match)': 0.4444444444444445,\n",
       " 'Accuracy (event_match)': 0.7474747474747475,\n",
       " 'Confusion Matrix (topic_match)': array([[17,  8],\n",
       "        [35, 39]]),\n",
       " 'Confusion Matrix (event_match)': array([[64, 19],\n",
       "        [ 6, 10]])}"
      ]
     },
     "execution_count": 36,
     "metadata": {},
     "output_type": "execute_result"
    }
   ],
   "source": [
    "#13B results\n",
    "results4 = calculate_precision_recall_f1_accuracy(df5, df3)\n",
    "results4"
   ]
  },
  {
   "cell_type": "code",
   "execution_count": 193,
   "id": "a271a122-435e-4098-8676-64ad4d16617b",
   "metadata": {},
   "outputs": [
    {
     "data": {
      "text/plain": [
       "{'Precision (topic_match)': 0.8297872340425532,\n",
       " 'Recall (topic_match)': 0.527027027027027,\n",
       " 'F1 Score (topic_match)': 0.6446280991735537,\n",
       " 'Accuracy (topic_match)': 0.5656565656565656,\n",
       " 'Precision (event_match)': 0.3448275862068966,\n",
       " 'Recall (event_match)': 0.625,\n",
       " 'F1 Score (event_match)': 0.4444444444444445,\n",
       " 'Accuracy (event_match)': 0.7474747474747475,\n",
       " 'Confusion Matrix (topic_match)': array([[17,  8],\n",
       "        [35, 39]]),\n",
       " 'Confusion Matrix (event_match)': array([[64, 19],\n",
       "        [ 6, 10]])}"
      ]
     },
     "execution_count": 193,
     "metadata": {},
     "output_type": "execute_result"
    }
   ],
   "source": [
    "#13B results\n",
    "results5 = calculate_precision_recall_f1_accuracy(df6, df3)\n",
    "results5"
   ]
  },
  {
   "cell_type": "code",
   "execution_count": 39,
   "id": "0881e822-4948-46db-b6e7-82b8b03c9494",
   "metadata": {},
   "outputs": [
    {
     "data": {
      "text/plain": [
       "{'Precision (topic_match)': 0.8709677419354839,\n",
       " 'Recall (topic_match)': 0.36486486486486486,\n",
       " 'F1 Score (topic_match)': 0.5142857142857142,\n",
       " 'Accuracy (topic_match)': 0.48484848484848486,\n",
       " 'Precision (event_match)': 0.3333333333333333,\n",
       " 'Recall (event_match)': 0.5,\n",
       " 'F1 Score (event_match)': 0.4,\n",
       " 'Accuracy (event_match)': 0.7575757575757576,\n",
       " 'Confusion Matrix (topic_match)': array([[21,  4],\n",
       "        [47, 27]]),\n",
       " 'Confusion Matrix (event_match)': array([[67, 16],\n",
       "        [ 8,  8]])}"
      ]
     },
     "execution_count": 39,
     "metadata": {},
     "output_type": "execute_result"
    }
   ],
   "source": [
    "#13B results\n",
    "r2 = calculate_precision_recall_f1_accuracy(b, df3)\n",
    "r2"
   ]
  },
  {
   "cell_type": "code",
   "execution_count": 31,
   "id": "903f653c-5726-426f-b57b-7e371b00e86d",
   "metadata": {},
   "outputs": [
    {
     "data": {
      "text/plain": [
       "{'Precision (topic_match)': 0.8297872340425532,\n",
       " 'Recall (topic_match)': 0.527027027027027,\n",
       " 'F1 Score (topic_match)': 0.6446280991735537,\n",
       " 'Accuracy (topic_match)': 0.5656565656565656,\n",
       " 'Precision (event_match)': 0.28,\n",
       " 'Recall (event_match)': 0.4375,\n",
       " 'F1 Score (event_match)': 0.34146341463414637,\n",
       " 'Accuracy (event_match)': 0.7272727272727273,\n",
       " 'Confusion Matrix (topic_match)': array([[17,  8],\n",
       "        [35, 39]]),\n",
       " 'Confusion Matrix (event_match)': array([[65, 18],\n",
       "        [ 9,  7]])}"
      ]
     },
     "execution_count": 31,
     "metadata": {},
     "output_type": "execute_result"
    }
   ],
   "source": [
    "#13B results\n",
    "r = calculate_precision_recall_f1_accuracy(d, df3)\n",
    "r"
   ]
  },
  {
   "cell_type": "code",
   "execution_count": 45,
   "id": "9419a163-e332-4d0f-8253-cc33da02d3ab",
   "metadata": {},
   "outputs": [
    {
     "data": {
      "text/plain": [
       "{'Precision (topic_match)': 0.8043478260869565,\n",
       " 'Recall (topic_match)': 0.5,\n",
       " 'F1 Score (topic_match)': 0.6166666666666667,\n",
       " 'Accuracy (topic_match)': 0.5353535353535354,\n",
       " 'Precision (event_match)': 0.375,\n",
       " 'Recall (event_match)': 0.5625,\n",
       " 'F1 Score (event_match)': 0.45,\n",
       " 'Accuracy (event_match)': 0.7777777777777778,\n",
       " 'Confusion Matrix (topic_match)': array([[16,  9],\n",
       "        [37, 37]]),\n",
       " 'Confusion Matrix (event_match)': array([[68, 15],\n",
       "        [ 7,  9]])}"
      ]
     },
     "execution_count": 45,
     "metadata": {},
     "output_type": "execute_result"
    }
   ],
   "source": [
    "#13B results\n",
    "r = calculate_precision_recall_f1_accuracy(f, df3) #latest\n",
    "r"
   ]
  },
  {
   "cell_type": "code",
   "execution_count": 33,
   "id": "8ac4652b-7e13-46e4-9d2b-80fb3b73e135",
   "metadata": {},
   "outputs": [
    {
     "data": {
      "text/plain": [
       "{'Precision (topic_match)': 0.8709677419354839,\n",
       " 'Recall (topic_match)': 0.36486486486486486,\n",
       " 'F1 Score (topic_match)': 0.5142857142857142,\n",
       " 'Accuracy (topic_match)': 0.48484848484848486,\n",
       " 'Precision (event_match)': 0.28,\n",
       " 'Recall (event_match)': 0.4375,\n",
       " 'F1 Score (event_match)': 0.34146341463414637,\n",
       " 'Accuracy (event_match)': 0.7272727272727273,\n",
       " 'Confusion Matrix (topic_match)': array([[21,  4],\n",
       "        [47, 27]]),\n",
       " 'Confusion Matrix (event_match)': array([[65, 18],\n",
       "        [ 9,  7]])}"
      ]
     },
     "execution_count": 33,
     "metadata": {},
     "output_type": "execute_result"
    }
   ],
   "source": [
    "#13B results\n",
    "r1 = calculate_precision_recall_f1_accuracy(c, df3)\n",
    "r1"
   ]
  },
  {
   "cell_type": "code",
   "execution_count": 41,
   "id": "8bb7dd03-53dd-4f8f-8211-54ae4bd12318",
   "metadata": {},
   "outputs": [
    {
     "data": {
      "text/plain": [
       "{'Precision (topic_match)': 0.8620689655172413,\n",
       " 'Recall (topic_match)': 0.33783783783783783,\n",
       " 'F1 Score (topic_match)': 0.4854368932038835,\n",
       " 'Accuracy (topic_match)': 0.46464646464646464,\n",
       " 'Precision (event_match)': 0.3333333333333333,\n",
       " 'Recall (event_match)': 0.5,\n",
       " 'F1 Score (event_match)': 0.4,\n",
       " 'Accuracy (event_match)': 0.7575757575757576,\n",
       " 'Confusion Matrix (topic_match)': array([[21,  4],\n",
       "        [49, 25]]),\n",
       " 'Confusion Matrix (event_match)': array([[67, 16],\n",
       "        [ 8,  8]])}"
      ]
     },
     "execution_count": 41,
     "metadata": {},
     "output_type": "execute_result"
    }
   ],
   "source": [
    "#13B results\n",
    "r2 = calculate_precision_recall_f1_accuracy(a, df3)\n",
    "r2"
   ]
  },
  {
   "cell_type": "code",
   "execution_count": 43,
   "id": "442869ec-58ff-4426-8128-3bdf5bbb02c0",
   "metadata": {},
   "outputs": [
    {
     "data": {
      "text/plain": [
       "{'Precision (topic_match)': 0.8709677419354839,\n",
       " 'Recall (topic_match)': 0.36486486486486486,\n",
       " 'F1 Score (topic_match)': 0.5142857142857142,\n",
       " 'Accuracy (topic_match)': 0.48484848484848486,\n",
       " 'Precision (event_match)': 0.3333333333333333,\n",
       " 'Recall (event_match)': 0.5,\n",
       " 'F1 Score (event_match)': 0.4,\n",
       " 'Accuracy (event_match)': 0.7575757575757576,\n",
       " 'Confusion Matrix (topic_match)': array([[21,  4],\n",
       "        [47, 27]]),\n",
       " 'Confusion Matrix (event_match)': array([[67, 16],\n",
       "        [ 8,  8]])}"
      ]
     },
     "execution_count": 43,
     "metadata": {},
     "output_type": "execute_result"
    }
   ],
   "source": [
    "#13B results\n",
    "r3 = calculate_precision_recall_f1_accuracy(e, df3)\n",
    "r3"
   ]
  },
  {
   "cell_type": "code",
   "execution_count": 194,
   "id": "63fec364-74c1-45ae-9573-0c1e41a35633",
   "metadata": {},
   "outputs": [
    {
     "data": {
      "text/plain": [
       "{'Precision (topic_match)': 0.8297872340425532,\n",
       " 'Recall (topic_match)': 0.527027027027027,\n",
       " 'F1 Score (topic_match)': 0.6446280991735537,\n",
       " 'Accuracy (topic_match)': 0.5656565656565656,\n",
       " 'Precision (event_match)': 0.3448275862068966,\n",
       " 'Recall (event_match)': 0.625,\n",
       " 'F1 Score (event_match)': 0.4444444444444445,\n",
       " 'Accuracy (event_match)': 0.7474747474747475,\n",
       " 'Confusion Matrix (topic_match)': array([[17,  8],\n",
       "        [35, 39]]),\n",
       " 'Confusion Matrix (event_match)': array([[64, 19],\n",
       "        [ 6, 10]])}"
      ]
     },
     "execution_count": 194,
     "metadata": {},
     "output_type": "execute_result"
    }
   ],
   "source": [
    "#13B results\n",
    "results6 = calculate_precision_recall_f1_accuracy(df7, df3)\n",
    "results6"
   ]
  },
  {
   "cell_type": "code",
   "execution_count": 195,
   "id": "3eed972f-ab9c-4635-9ab5-29a394f4b8f4",
   "metadata": {},
   "outputs": [
    {
     "data": {
      "text/plain": [
       "{'Precision (topic_match)': 0.8297872340425532,\n",
       " 'Recall (topic_match)': 0.527027027027027,\n",
       " 'F1 Score (topic_match)': 0.6446280991735537,\n",
       " 'Accuracy (topic_match)': 0.5656565656565656,\n",
       " 'Precision (event_match)': 0.3448275862068966,\n",
       " 'Recall (event_match)': 0.625,\n",
       " 'F1 Score (event_match)': 0.4444444444444445,\n",
       " 'Accuracy (event_match)': 0.7474747474747475,\n",
       " 'Confusion Matrix (topic_match)': array([[17,  8],\n",
       "        [35, 39]]),\n",
       " 'Confusion Matrix (event_match)': array([[64, 19],\n",
       "        [ 6, 10]])}"
      ]
     },
     "execution_count": 195,
     "metadata": {},
     "output_type": "execute_result"
    }
   ],
   "source": [
    "#13B results\n",
    "results7 = calculate_precision_recall_f1_accuracy(df8, df3)\n",
    "results7"
   ]
  },
  {
   "cell_type": "code",
   "execution_count": null,
   "id": "65976a10-f54f-4828-b242-05475247aeb2",
   "metadata": {},
   "outputs": [],
   "source": [
    "#13B results\n",
    "results9 = calculate_precision_recall_f1_accuracy(df10, df3)\n",
    "results9"
   ]
  },
  {
   "cell_type": "code",
   "execution_count": 11,
   "id": "34bebd19-ee24-48a2-8f09-29ec6af07015",
   "metadata": {},
   "outputs": [
    {
     "data": {
      "text/plain": [
       "{'Precision (topic_match)': 0.7976190476190477,\n",
       " 'Recall (topic_match)': 0.9054054054054054,\n",
       " 'F1 Score (topic_match)': 0.8481012658227848,\n",
       " 'Accuracy (topic_match)': 0.7575757575757576,\n",
       " 'Precision (event_match)': 0.2,\n",
       " 'Recall (event_match)': 0.5,\n",
       " 'F1 Score (event_match)': 0.28571428571428575,\n",
       " 'Accuracy (event_match)': 0.5959595959595959,\n",
       " 'Confusion Matrix (topic_match)': array([[ 8, 17],\n",
       "        [ 7, 67]]),\n",
       " 'Confusion Matrix (event_match)': array([[51, 32],\n",
       "        [ 8,  8]])}"
      ]
     },
     "execution_count": 11,
     "metadata": {},
     "output_type": "execute_result"
    }
   ],
   "source": [
    "#7B results\n",
    "results10 = calculate_precision_recall_f1_accuracy(df11, df3)\n",
    "results10"
   ]
  },
  {
   "cell_type": "code",
   "execution_count": 14,
   "id": "cf2b830f-424d-4579-9de4-ef8dfce516af",
   "metadata": {},
   "outputs": [
    {
     "data": {
      "text/plain": [
       "{'Precision (topic_match)': 0.7976190476190477,\n",
       " 'Recall (topic_match)': 0.9054054054054054,\n",
       " 'F1 Score (topic_match)': 0.8481012658227848,\n",
       " 'Accuracy (topic_match)': 0.7575757575757576,\n",
       " 'Precision (event_match)': 0.2,\n",
       " 'Recall (event_match)': 0.5,\n",
       " 'F1 Score (event_match)': 0.28571428571428575,\n",
       " 'Accuracy (event_match)': 0.5959595959595959,\n",
       " 'Confusion Matrix (topic_match)': array([[ 8, 17],\n",
       "        [ 7, 67]]),\n",
       " 'Confusion Matrix (event_match)': array([[51, 32],\n",
       "        [ 8,  8]])}"
      ]
     },
     "execution_count": 14,
     "metadata": {},
     "output_type": "execute_result"
    }
   ],
   "source": [
    "#7B results\n",
    "results11 = calculate_precision_recall_f1_accuracy(df12, df3)\n",
    "results11"
   ]
  },
  {
   "cell_type": "code",
   "execution_count": 16,
   "id": "8aedacde-4b22-498a-b025-f5216d255f52",
   "metadata": {},
   "outputs": [
    {
     "data": {
      "text/plain": [
       "{'Precision (topic_match)': 0.7976190476190477,\n",
       " 'Recall (topic_match)': 0.9054054054054054,\n",
       " 'F1 Score (topic_match)': 0.8481012658227848,\n",
       " 'Accuracy (topic_match)': 0.7575757575757576,\n",
       " 'Precision (event_match)': 0.2,\n",
       " 'Recall (event_match)': 0.5,\n",
       " 'F1 Score (event_match)': 0.28571428571428575,\n",
       " 'Accuracy (event_match)': 0.5959595959595959,\n",
       " 'Confusion Matrix (topic_match)': array([[ 8, 17],\n",
       "        [ 7, 67]]),\n",
       " 'Confusion Matrix (event_match)': array([[51, 32],\n",
       "        [ 8,  8]])}"
      ]
     },
     "execution_count": 16,
     "metadata": {},
     "output_type": "execute_result"
    }
   ],
   "source": [
    "#7B results\n",
    "results12 = calculate_precision_recall_f1_accuracy(df13, df3)\n",
    "results12"
   ]
  },
  {
   "cell_type": "code",
   "execution_count": 20,
   "id": "6f78eb5a-3b55-4637-b45d-64a931622d9e",
   "metadata": {},
   "outputs": [
    {
     "data": {
      "text/plain": [
       "{'Precision (topic_match)': 0.7976190476190477,\n",
       " 'Recall (topic_match)': 0.9054054054054054,\n",
       " 'F1 Score (topic_match)': 0.8481012658227848,\n",
       " 'Accuracy (topic_match)': 0.7575757575757576,\n",
       " 'Precision (event_match)': 0.2,\n",
       " 'Recall (event_match)': 0.5,\n",
       " 'F1 Score (event_match)': 0.28571428571428575,\n",
       " 'Accuracy (event_match)': 0.5959595959595959,\n",
       " 'Confusion Matrix (topic_match)': array([[ 8, 17],\n",
       "        [ 7, 67]]),\n",
       " 'Confusion Matrix (event_match)': array([[51, 32],\n",
       "        [ 8,  8]])}"
      ]
     },
     "execution_count": 20,
     "metadata": {},
     "output_type": "execute_result"
    }
   ],
   "source": [
    "#7B results\n",
    "results13 = calculate_precision_recall_f1_accuracy(df14, df3)\n",
    "results13"
   ]
  },
  {
   "cell_type": "code",
   "execution_count": 22,
   "id": "4e0ec789-b4a7-448d-a60b-42a108751636",
   "metadata": {},
   "outputs": [
    {
     "data": {
      "text/plain": [
       "{'Precision (topic_match)': 0.7976190476190477,\n",
       " 'Recall (topic_match)': 0.9054054054054054,\n",
       " 'F1 Score (topic_match)': 0.8481012658227848,\n",
       " 'Accuracy (topic_match)': 0.7575757575757576,\n",
       " 'Precision (event_match)': 0.2,\n",
       " 'Recall (event_match)': 0.5,\n",
       " 'F1 Score (event_match)': 0.28571428571428575,\n",
       " 'Accuracy (event_match)': 0.5959595959595959,\n",
       " 'Confusion Matrix (topic_match)': array([[ 8, 17],\n",
       "        [ 7, 67]]),\n",
       " 'Confusion Matrix (event_match)': array([[51, 32],\n",
       "        [ 8,  8]])}"
      ]
     },
     "execution_count": 22,
     "metadata": {},
     "output_type": "execute_result"
    }
   ],
   "source": [
    "#7B results\n",
    "results14 = calculate_precision_recall_f1_accuracy(df15, df3)\n",
    "results14"
   ]
  },
  {
   "cell_type": "code",
   "execution_count": 24,
   "id": "601ff503-39b7-473a-834f-db18f14a9edc",
   "metadata": {},
   "outputs": [
    {
     "data": {
      "text/plain": [
       "{'Precision (topic_match)': 0.7976190476190477,\n",
       " 'Recall (topic_match)': 0.9054054054054054,\n",
       " 'F1 Score (topic_match)': 0.8481012658227848,\n",
       " 'Accuracy (topic_match)': 0.7575757575757576,\n",
       " 'Precision (event_match)': 0.2,\n",
       " 'Recall (event_match)': 0.5,\n",
       " 'F1 Score (event_match)': 0.28571428571428575,\n",
       " 'Accuracy (event_match)': 0.5959595959595959,\n",
       " 'Confusion Matrix (topic_match)': array([[ 8, 17],\n",
       "        [ 7, 67]]),\n",
       " 'Confusion Matrix (event_match)': array([[51, 32],\n",
       "        [ 8,  8]])}"
      ]
     },
     "execution_count": 24,
     "metadata": {},
     "output_type": "execute_result"
    }
   ],
   "source": [
    "#7B results\n",
    "results15 = calculate_precision_recall_f1_accuracy(df16, df3)\n",
    "results15"
   ]
  },
  {
   "cell_type": "code",
   "execution_count": 26,
   "id": "75e6a55a-2f60-4eab-97a2-004c9a65ce0a",
   "metadata": {},
   "outputs": [
    {
     "data": {
      "text/plain": [
       "{'Precision (topic_match)': 0.7976190476190477,\n",
       " 'Recall (topic_match)': 0.9054054054054054,\n",
       " 'F1 Score (topic_match)': 0.8481012658227848,\n",
       " 'Accuracy (topic_match)': 0.7575757575757576,\n",
       " 'Precision (event_match)': 0.2,\n",
       " 'Recall (event_match)': 0.5,\n",
       " 'F1 Score (event_match)': 0.28571428571428575,\n",
       " 'Accuracy (event_match)': 0.5959595959595959,\n",
       " 'Confusion Matrix (topic_match)': array([[ 8, 17],\n",
       "        [ 7, 67]]),\n",
       " 'Confusion Matrix (event_match)': array([[51, 32],\n",
       "        [ 8,  8]])}"
      ]
     },
     "execution_count": 26,
     "metadata": {},
     "output_type": "execute_result"
    }
   ],
   "source": [
    "#7B results\n",
    "results16 = calculate_precision_recall_f1_accuracy(df17, df3)\n",
    "results16"
   ]
  },
  {
   "cell_type": "markdown",
   "id": "9e803826-0364-4816-837e-24b080412e19",
   "metadata": {},
   "source": [
    "performance on topic level match increases with additional variables (party names and candiate names) \n",
    "BUT news event match performance descreases as the caveat this is that topics become more course and then news events become more course as well resulting in too many matches."
   ]
  },
  {
   "cell_type": "markdown",
   "id": "0a486a17-1629-491c-a85d-dbc0d2b0d40c",
   "metadata": {},
   "source": [
    "### Plot confusion matrix "
   ]
  },
  {
   "cell_type": "markdown",
   "id": "23e99141-2cc8-44f0-94d7-110caf4babe7",
   "metadata": {},
   "source": [
    "#### This confusion matrix is a 2x2 matrix that summarizes the performance of a binary classification model. It consists of four values:\n",
    "\n",
    "* The top-left cell represents True Negatives (TN), which are the instances correctly classified as \"Class 0.\"\n",
    "* The top-right cell represents False Positives (FP), which are instances incorrectly classified as \"Class 1.\"\n",
    "* The bottom-left cell represents False Negatives (FN), which are instances incorrectly classified as \"Class 0.\"\n",
    "* The bottom-right cell represents True Positives (TP), which are instances correctly classified as \"Class 1.\""
   ]
  },
  {
   "cell_type": "markdown",
   "id": "366f1c06-b9e9-4de0-a9a1-9a1a48cb9a75",
   "metadata": {},
   "source": [
    "#### llama 7B"
   ]
  },
  {
   "cell_type": "code",
   "execution_count": 168,
   "id": "c704b2f8-cc64-49d4-ba71-b02678001332",
   "metadata": {},
   "outputs": [
    {
     "data": {
      "image/png": "[encoded data removed]",
      "text/plain": [
       "<Figure size 640x480 with 2 Axes>"
      ]
     },
     "metadata": {},
     "output_type": "display_data"
    },
    {
     "data": {
      "image/png": "[encoded data removed]",
      "text/plain": [
       "<Figure size 640x480 with 2 Axes>"
      ]
     },
     "metadata": {},
     "output_type": "display_data"
    }
   ],
   "source": [
    "# Plot the confusion matrices\n",
    "#llama 7b\n",
    "\n",
    "sns.heatmap(results[\"Confusion Matrix (topic_match)\"], annot=True, fmt='d', cmap='Blues', \n",
    "            xticklabels=['0', '1'], yticklabels=['0', '1'])\n",
    "plt.xlabel('Predicted Labels')\n",
    "plt.ylabel('True Labels')\n",
    "plt.title('Confusion Matrix (topic_match)')\n",
    "plt.show()\n",
    "\n",
    "\n",
    "sns.heatmap(results[\"Confusion Matrix (event_match)\"], annot=True, fmt='d', cmap='Blues', \n",
    "            xticklabels=['0', '1'], yticklabels=['0', '1'])\n",
    "plt.xlabel('Predicted Labels')\n",
    "plt.ylabel('True Labels')\n",
    "plt.title('Confusion Matrix (event_match)')\n",
    "plt.show()"
   ]
  },
  {
   "cell_type": "markdown",
   "id": "2e9953e4-d813-4f43-8619-324a498469cc",
   "metadata": {},
   "source": [
    "#### llama 13B"
   ]
  },
  {
   "cell_type": "code",
   "execution_count": 169,
   "id": "ae179a38-f7f8-41f9-b4fe-4552a818631b",
   "metadata": {},
   "outputs": [
    {
     "data": {
      "image/png": "[encoded data removed]",
      "text/plain": [
       "<Figure size 640x480 with 2 Axes>"
      ]
     },
     "metadata": {},
     "output_type": "display_data"
    },
    {
     "data": {
      "image/png": "[encoded data removed]",
      "text/plain": [
       "<Figure size 640x480 with 2 Axes>"
      ]
     },
     "metadata": {},
     "output_type": "display_data"
    }
   ],
   "source": [
    "sns.heatmap(results4[\"Confusion Matrix (topic_match)\"], annot=True, fmt='d', cmap='Blues', \n",
    "            xticklabels=['0', '1'], yticklabels=['0', '1'])\n",
    "plt.xlabel('Predicted Labels')\n",
    "plt.ylabel('True Labels')\n",
    "plt.title('Confusion Matrix (topic_match)')\n",
    "plt.show()\n",
    "\n",
    "\n",
    "sns.heatmap(results4[\"Confusion Matrix (event_match)\"], annot=True, fmt='d', cmap='Blues', \n",
    "            xticklabels=['0', '1'], yticklabels=['0', '1'])\n",
    "plt.xlabel('Predicted Labels')\n",
    "plt.ylabel('True Labels')\n",
    "plt.title('Confusion Matrix (event_match)')\n",
    "plt.show()"
   ]
  },
  {
   "cell_type": "markdown",
   "id": "07bc523d-a47e-4c6b-af04-e4358ea06509",
   "metadata": {},
   "source": [
    "### Interpretation\n",
    "\n",
    "So far model performance is not great. Llama 7b appears to perform better at identifying topic matches - it has higher agreement with expert annotations. But it performs very badly on news event match task.\n",
    "\n",
    "On the other hand LLama 13b performs accetable on topic match task and mediocre on the new event level match.\n",
    "\n"
   ]
  },
  {
   "cell_type": "markdown",
   "id": "6824ad28-1e25-4024-98f9-a7755cf701df",
   "metadata": {},
   "source": [
    "## Manual Error analysis of disagreements"
   ]
  },
  {
   "cell_type": "markdown",
   "id": "df9e6ce1-5c18-4ec5-9209-d7e102e9cd13",
   "metadata": {},
   "source": [
    "### Topic level"
   ]
  },
  {
   "cell_type": "markdown",
   "id": "c3c7496c-0327-462a-add2-1f82ea97a78a",
   "metadata": {},
   "source": [
    "#### Llama 7B"
   ]
  },
  {
   "cell_type": "code",
   "execution_count": 174,
   "id": "213268d6-fb7e-40a4-a664-4fed6a457813",
   "metadata": {},
   "outputs": [
    {
     "data": {
      "text/plain": [
       "(array([ 0,  7,  8,  9, 16, 17, 20, 21, 25, 43, 47, 52, 55, 56, 61, 63, 67,\n",
       "        71, 78, 79, 87, 90, 97, 98]),)"
      ]
     },
     "execution_count": 174,
     "metadata": {},
     "output_type": "execute_result"
    }
   ],
   "source": [
    "# Get the indices of the rows where the predicted and ground truth labels differ\n",
    "indices = np.where(df1['Topic_match'] != df3['topic_match'])\n",
    "indices"
   ]
  },
  {
   "cell_type": "code",
   "execution_count": 46,
   "id": "de1f93f4-4b57-4186-b088-edc406dfb346",
   "metadata": {},
   "outputs": [],
   "source": [
    "# Get the predicted labels for the disputed rows along with 'Text1', 'Text2', and 'Topic_eval'\n",
    "dis_7B_topic = df1.iloc[indices][['Text1', 'Text2', 'Topic_eval', 'Topic', 'Topic_match']]\n"
   ]
  },
  {
   "cell_type": "code",
   "execution_count": 47,
   "id": "f3333574-3e03-4c20-8c27-df82d8b3c3b5",
   "metadata": {},
   "outputs": [],
   "source": [
    "# Add a new column 'Expert' with the opposite values of 'Topic_match' - easy way to see disagreements clearly\n",
    "dis_7B_topic['Expert'] = 1 - dis_7B_topic['Topic_match']"
   ]
  },
  {
   "cell_type": "code",
   "execution_count": 48,
   "id": "c529218c-d7dc-4152-bd12-18cb60f1831b",
   "metadata": {},
   "outputs": [],
   "source": [
    "dis_7B_topic.to_csv('../../../../initial_out/dis_7B_topic.csv')\n",
    "dis_7B_topic.to_excel('../../../../initial_out/dis_7B_topic.xlsx', index=False)"
   ]
  },
  {
   "cell_type": "markdown",
   "id": "0a4b782d-d31f-42be-afaa-3e66a1ed63c2",
   "metadata": {},
   "source": [
    "#### Llama 13B"
   ]
  },
  {
   "cell_type": "code",
   "execution_count": 173,
   "id": "5ded4785-4301-4d9e-a060-95d15d815e0a",
   "metadata": {},
   "outputs": [
    {
     "data": {
      "text/plain": [
       "(array([ 0,  1,  2,  6,  9, 11, 15, 20, 23, 27, 28, 30, 32, 34, 35, 37, 39,\n",
       "        42, 43, 48, 54, 55, 58, 59, 64, 68, 70, 71, 73, 74, 77, 78, 79, 81,\n",
       "        82, 83, 87, 88, 91, 92, 93, 97, 98]),)"
      ]
     },
     "execution_count": 173,
     "metadata": {},
     "output_type": "execute_result"
    }
   ],
   "source": [
    "# Get the indices of the rows where the predicted and ground truth labels differ\n",
    "indices = np.where(df5['Topic_match'] != df3['topic_match'])\n",
    "indices"
   ]
  },
  {
   "cell_type": "code",
   "execution_count": 53,
   "id": "3c2de73c-e4d4-4709-afdd-1ee1a49b945a",
   "metadata": {},
   "outputs": [],
   "source": [
    "# Get the predicted labels for the disputed rows along with 'Text1', 'Text2', and 'Topic_eval'\n",
    "dis_13B_topic = df5.iloc[indices][['Text1', 'Text2', 'Topic_eval', 'Topic', 'Topic_match']]\n",
    "# Add a new column 'Expert' with the opposite values of 'Topic_match' - easy way to see disagreements clearly\n",
    "dis_13B_topic['Expert'] = 1 - dis_13B_topic['Topic_match']"
   ]
  },
  {
   "cell_type": "code",
   "execution_count": 56,
   "id": "8456c1d6-7f20-418b-a9b8-235b676d5a7e",
   "metadata": {},
   "outputs": [],
   "source": [
    "dis_13B_topic.to_csv('../../../../initial_out/dis_13B_topic.csv')\n",
    "dis_13B_topic.to_excel('../../../../initial_out/dis_13B_topic.xlsx', index=False)"
   ]
  },
  {
   "cell_type": "markdown",
   "id": "6aca133d-9768-4f4e-9995-0eee36c4c4d8",
   "metadata": {},
   "source": [
    "### News events level"
   ]
  },
  {
   "cell_type": "markdown",
   "id": "baf2217f-979d-471f-a8c4-31648191fcf9",
   "metadata": {},
   "source": [
    "#### Llama 7B"
   ]
  },
  {
   "cell_type": "code",
   "execution_count": 170,
   "id": "71ec630b-26ac-47d3-a482-f38b85e242b9",
   "metadata": {},
   "outputs": [
    {
     "data": {
      "text/plain": [
       "(array([ 2,  3,  4, 10, 11, 14, 15, 23, 28, 31, 37, 38, 39, 41, 44, 49, 52,\n",
       "        53, 55, 56, 60, 61, 62, 63, 65, 67, 68, 69, 70, 72, 75, 79, 81, 84,\n",
       "        86, 90, 95, 96, 97]),)"
      ]
     },
     "execution_count": 170,
     "metadata": {},
     "output_type": "execute_result"
    }
   ],
   "source": [
    "# Get the indices of the rows where the predicted and ground truth labels differ\n",
    "indices = np.where(df1['Event_match'] != df3['event_match'])\n",
    "indices"
   ]
  },
  {
   "cell_type": "code",
   "execution_count": 63,
   "id": "169a757a-1fb6-45c2-b473-91eea05c26e5",
   "metadata": {},
   "outputs": [],
   "source": [
    "# Get the predicted labels for the disputed rows along with 'Text1', 'Text2', and 'Topic_eval'\n",
    "dis_7B_event = df1.iloc[indices][['Text1', 'Text2', 'Event_eval', 'News_events', 'Event_match']]\n",
    "dis_7B_event['Expert'] = 1 - dis_7B_event['Event_match']"
   ]
  },
  {
   "cell_type": "code",
   "execution_count": 65,
   "id": "50cd7cc3-125f-40e7-8446-f90ce439310e",
   "metadata": {},
   "outputs": [],
   "source": [
    "dis_7B_event.to_csv('../../../../initial_out/dis_7B_event.csv')\n",
    "dis_7B_event.to_excel('../../../../initial_out/dis_7B_event.xlsx', index=False)"
   ]
  },
  {
   "cell_type": "markdown",
   "id": "4c462b8e-9e9b-41bb-976f-0f0c3650fe75",
   "metadata": {},
   "source": [
    "#### Llama 13B"
   ]
  },
  {
   "cell_type": "code",
   "execution_count": 171,
   "id": "8119a366-f617-4bdc-9b0e-7327783f3b75",
   "metadata": {},
   "outputs": [
    {
     "data": {
      "text/plain": [
       "(array([ 0,  1,  2,  3,  5,  6, 15, 17, 23, 28, 29, 38, 39, 41, 46, 53, 60,\n",
       "        61, 62, 65, 80, 84, 89, 93, 98]),)"
      ]
     },
     "execution_count": 171,
     "metadata": {},
     "output_type": "execute_result"
    }
   ],
   "source": [
    "# Get the indices of the rows where the predicted and ground truth labels differ\n",
    "indices = np.where(df5['Event_match'] != df3['event_match'])\n",
    "indices"
   ]
  },
  {
   "cell_type": "code",
   "execution_count": 138,
   "id": "4f058412-678d-4676-ab1a-757d8af9cc24",
   "metadata": {},
   "outputs": [],
   "source": [
    "# Get the predicted labels for the disputed rows along with 'Text1', 'Text2', and 'Topic_eval'\n",
    "dis_13B_event = df5.iloc[indices][['Text1', 'Text2', 'Event_eval', 'News_events', 'Event_match']]\n",
    "dis_13B_event['Expert'] = 1 - dis_13B_event['Event_match']"
   ]
  },
  {
   "cell_type": "code",
   "execution_count": 139,
   "id": "1da92014-b5c0-4a88-855a-ff3730cf4ae8",
   "metadata": {},
   "outputs": [],
   "source": [
    "dis_13B_event.to_csv('../../../../initial_out/dis_13B_event.csv')\n",
    "dis_13B_event.to_excel('../../../../initial_out/dis_13B_event.xlsx', index=False)"
   ]
  }
 ],
 "metadata": {
  "kernelspec": {
   "display_name": "python 3.10",
   "language": "python",
   "name": "python_3.10"
  },
  "language_info": {
   "codemirror_mode": {
    "name": "ipython",
    "version": 3
   },
   "file_extension": ".py",
   "mimetype": "text/x-python",
   "name": "python",
   "nbconvert_exporter": "python",
   "pygments_lexer": "ipython3",
   "version": "3.10.12"
  }
 },
 "nbformat": 4,
 "nbformat_minor": 5
}
